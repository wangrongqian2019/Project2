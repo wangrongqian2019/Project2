{
 "cells": [
  {
   "cell_type": "code",
   "execution_count": 20,
   "metadata": {},
   "outputs": [
    {
     "name": "stderr",
     "output_type": "stream",
     "text": [
      "Operator `initdamp` run in 0.01 s\n",
      "Operator `padfunc` run in 0.01 s\n"
     ]
    }
   ],
   "source": [
    "import numpy as np\n",
    "import segyio\n",
    "import matplotlib.pylab as plt\n",
    "from examples.seismic import plot_shotrecord\n",
    "%matplotlib inline\n",
    "from examples.seismic import plot_velocity, plot_perturbation\n",
    "from scipy import ndimage\n",
    "from examples.seismic import Model\n",
    "names = locals()\n",
    "\n",
    "shape = (201, 101)   # Number of grid point (nx, nz)\n",
    "spacing = (5, 5)  # Grid spacing in m.\n",
    "origin = (0., 0.)  # What is the location of the top left corner.\n",
    "\n",
    "v = np.ones(shape, dtype = np.float32)*2.0\n",
    "'''\n",
    "for i in range(shape[0]):\n",
    "    v[i, :20] = 1.5\n",
    "    v[i, 20:80] = 1.7\n",
    "    v[i, 80:] = 1.9\n",
    "'''\n",
    "\n",
    "model = Model(vp=v, origin=origin, shape=shape, spacing=spacing,mytime=0.3,\n",
    "                      space_order=4)\n",
    "\n",
    "nshots = 51  # Need good covergae in shots, one every two grid points\n",
    "nreceivers = 204  # One recevier every grid point\n",
    "fwi_iterations=5 #number of outer FWI iterations\n",
    "t0 = 0.\n",
    "tn = 600.  # Simulation last 3.5 second (600 ms)\n",
    "f0 = 0.015  # Source peak frequency is 25Hz (0.015 kHz)"
   ]
  },
  {
   "cell_type": "code",
   "execution_count": 21,
   "metadata": {},
   "outputs": [
    {
     "data": {
      "image/png": "[encoded data removed]",
      "text/plain": [
       "<Figure size 432x288 with 2 Axes>"
      ]
     },
     "metadata": {
      "needs_background": "light"
     },
     "output_type": "display_data"
    }
   ],
   "source": [
    "# Plot the true and initial model and the perturbation between them\n",
    "plot_velocity(model)"
   ]
  },
  {
   "cell_type": "code",
   "execution_count": 22,
   "metadata": {},
   "outputs": [],
   "source": [
    "geo = np.load('/home1/wangrongqian/hw/project_data/common.npy', allow_pickle=True).item()\n",
    "for i in range(nshots):\n",
    "    names['data' + str(i)] = np.load('/home1/wangrongqian/hw/project_data/project2_data_shot_'+str(i)+'.npy')"
   ]
  },
  {
   "cell_type": "code",
   "execution_count": 23,
   "metadata": {},
   "outputs": [
    {
     "data": {
      "text/plain": [
       "dict_keys(['time_values', 'source', 'src_coordinates', 'rec_coordinates'])"
      ]
     },
     "execution_count": 23,
     "metadata": {},
     "output_type": "execute_result"
    }
   ],
   "source": [
    "geo.keys()"
   ]
  },
  {
   "cell_type": "code",
   "execution_count": 24,
   "metadata": {},
   "outputs": [
    {
     "data": {
      "text/plain": [
       "(2001, 204)"
      ]
     },
     "execution_count": 24,
     "metadata": {},
     "output_type": "execute_result"
    }
   ],
   "source": [
    "data1.shape"
   ]
  },
  {
   "cell_type": "code",
   "execution_count": 25,
   "metadata": {},
   "outputs": [
    {
     "data": {
      "image/png": "[encoded data removed]",
      "text/plain": [
       "<Figure size 432x288 with 1 Axes>"
      ]
     },
     "metadata": {
      "needs_background": "light"
     },
     "output_type": "display_data"
    }
   ],
   "source": [
    "from examples.seismic import AcquisitionGeometry\n",
    "\n",
    "# First, position source centrally in all dimensions, then set depth\n",
    "src_coordinates = geo['src_coordinates']\n",
    "\n",
    "# Define acquisition geometry: receivers\n",
    "\n",
    "# Initialize receivers for synthetic and imaging data\n",
    "rec_coordinates = geo['rec_coordinates']\n",
    "\n",
    "# Geometry\n",
    "\n",
    "geometry = AcquisitionGeometry(model, rec_coordinates, src_coordinates, t0, tn, f0=f0, src_type='Ricker')\n",
    "# We can plot the time signature to see the wavelet\n",
    "geometry.src.show()"
   ]
  },
  {
   "cell_type": "code",
   "execution_count": 26,
   "metadata": {},
   "outputs": [],
   "source": [
    "src_coordinates[:, 1] = 500 - src_coordinates[:, 1]"
   ]
  },
  {
   "cell_type": "code",
   "execution_count": 27,
   "metadata": {},
   "outputs": [],
   "source": [
    "rec_coordinates[:, 1] = 500 - rec_coordinates[:, 1]"
   ]
  },
  {
   "cell_type": "code",
   "execution_count": 28,
   "metadata": {},
   "outputs": [],
   "source": [
    "# Define rtm operator for imaging\n",
    "from devito import TimeFunction, Operator, Eq, solve\n",
    "from examples.seismic import PointSource\n",
    "\n",
    "def ImagingOperator(model, image):\n",
    "    objective=0\n",
    "    # Define the wavefield with the size of the model and the time dimension\n",
    "    v = TimeFunction(name='v', grid=model.grid, time_order=2, space_order=4)\n",
    "\n",
    "    u = TimeFunction(name='u', grid=model.grid, time_order=2, space_order=4,\n",
    "                     save=geometry.nt)\n",
    "    \n",
    "    # Define the wave equation, but with a negated damping term\n",
    "    eqn = model.m * v.dt2 - v.laplace + model.damp * v.dt.T\n",
    "\n",
    "    # Use `solve` to rearrange the equation into a stencil expression\n",
    "    stencil = Eq(v.backward, solve(eqn, v.backward))\n",
    "    \n",
    "    # Define residual injection at the location of the forward receivers\n",
    "    dt = model.critical_dt\n",
    "    residual = PointSource(name='residual', grid=model.grid,\n",
    "                           time_range=geometry.time_axis,\n",
    "                           coordinates=geometry.rec_positions)    \n",
    "    res_term = residual.inject(field=v.backward, expr=residual * dt**2 / model.m)\n",
    "    \n",
    "    # Correlate u and v for the current time step and add it to the image\n",
    "    image_update = Eq(image, image - u * v)\n",
    "    return Operator([stencil] + res_term + [image_update],\n",
    "                    subs=model.spacing_map)"
   ]
  },
  {
   "cell_type": "code",
   "execution_count": 29,
   "metadata": {},
   "outputs": [],
   "source": [
    "from examples.seismic.acoustic import AcousticWaveSolver\n",
    "solver = AcousticWaveSolver(model, geometry, space_order=4)\n",
    "from examples.seismic import plot_shotrecord"
   ]
  },
  {
   "cell_type": "code",
   "execution_count": 30,
   "metadata": {},
   "outputs": [
    {
     "data": {
      "image/png": "[encoded data removed]",
      "text/plain": [
       "<Figure size 432x288 with 2 Axes>"
      ]
     },
     "metadata": {
      "needs_background": "light"
     },
     "output_type": "display_data"
    }
   ],
   "source": [
    "# Prepare the varying source locations\n",
    "source_locations = src_coordinates\n",
    "\n",
    "plot_velocity(model, source=source_locations)"
   ]
  },
  {
   "cell_type": "code",
   "execution_count": 37,
   "metadata": {},
   "outputs": [
    {
     "name": "stdout",
     "output_type": "stream",
     "text": [
      "Imaging source 1 out of 51\n"
     ]
    },
    {
     "name": "stderr",
     "output_type": "stream",
     "text": [
      "Operator `Forward` run in 0.25 s\n",
      "Operator `Kernel` run in 0.19 s\n"
     ]
    },
    {
     "name": "stdout",
     "output_type": "stream",
     "text": [
      "Imaging source 2 out of 51\n"
     ]
    },
    {
     "name": "stderr",
     "output_type": "stream",
     "text": [
      "Operator `Forward` run in 0.15 s\n",
      "Operator `Kernel` run in 0.20 s\n"
     ]
    },
    {
     "name": "stdout",
     "output_type": "stream",
     "text": [
      "Imaging source 3 out of 51\n"
     ]
    },
    {
     "name": "stderr",
     "output_type": "stream",
     "text": [
      "Operator `Forward` run in 0.15 s\n",
      "Operator `Kernel` run in 0.19 s\n"
     ]
    },
    {
     "name": "stdout",
     "output_type": "stream",
     "text": [
      "Imaging source 4 out of 51\n"
     ]
    },
    {
     "name": "stderr",
     "output_type": "stream",
     "text": [
      "Operator `Forward` run in 0.15 s\n",
      "Operator `Kernel` run in 0.20 s\n"
     ]
    },
    {
     "name": "stdout",
     "output_type": "stream",
     "text": [
      "Imaging source 5 out of 51\n"
     ]
    },
    {
     "name": "stderr",
     "output_type": "stream",
     "text": [
      "Operator `Forward` run in 0.15 s\n",
      "Operator `Kernel` run in 0.19 s\n"
     ]
    },
    {
     "name": "stdout",
     "output_type": "stream",
     "text": [
      "Imaging source 6 out of 51\n"
     ]
    },
    {
     "name": "stderr",
     "output_type": "stream",
     "text": [
      "Operator `Forward` run in 0.16 s\n",
      "Operator `Kernel` run in 0.21 s\n"
     ]
    },
    {
     "name": "stdout",
     "output_type": "stream",
     "text": [
      "Imaging source 7 out of 51\n"
     ]
    },
    {
     "name": "stderr",
     "output_type": "stream",
     "text": [
      "Operator `Forward` run in 0.15 s\n",
      "Operator `Kernel` run in 0.19 s\n"
     ]
    },
    {
     "name": "stdout",
     "output_type": "stream",
     "text": [
      "Imaging source 8 out of 51\n"
     ]
    },
    {
     "name": "stderr",
     "output_type": "stream",
     "text": [
      "Operator `Forward` run in 0.15 s\n",
      "Operator `Kernel` run in 0.20 s\n"
     ]
    },
    {
     "name": "stdout",
     "output_type": "stream",
     "text": [
      "Imaging source 9 out of 51\n"
     ]
    },
    {
     "name": "stderr",
     "output_type": "stream",
     "text": [
      "Operator `Forward` run in 0.15 s\n",
      "Operator `Kernel` run in 0.22 s\n"
     ]
    },
    {
     "name": "stdout",
     "output_type": "stream",
     "text": [
      "Imaging source 10 out of 51\n"
     ]
    },
    {
     "name": "stderr",
     "output_type": "stream",
     "text": [
      "Operator `Forward` run in 0.16 s\n",
      "Operator `Kernel` run in 0.21 s\n"
     ]
    },
    {
     "name": "stdout",
     "output_type": "stream",
     "text": [
      "Imaging source 11 out of 51\n"
     ]
    },
    {
     "name": "stderr",
     "output_type": "stream",
     "text": [
      "Operator `Forward` run in 0.16 s\n",
      "Operator `Kernel` run in 0.20 s\n"
     ]
    },
    {
     "name": "stdout",
     "output_type": "stream",
     "text": [
      "Imaging source 12 out of 51\n"
     ]
    },
    {
     "name": "stderr",
     "output_type": "stream",
     "text": [
      "Operator `Forward` run in 0.15 s\n",
      "Operator `Kernel` run in 0.20 s\n"
     ]
    },
    {
     "name": "stdout",
     "output_type": "stream",
     "text": [
      "Imaging source 13 out of 51\n"
     ]
    },
    {
     "name": "stderr",
     "output_type": "stream",
     "text": [
      "Operator `Forward` run in 0.16 s\n",
      "Operator `Kernel` run in 0.21 s\n"
     ]
    },
    {
     "name": "stdout",
     "output_type": "stream",
     "text": [
      "Imaging source 14 out of 51\n"
     ]
    },
    {
     "name": "stderr",
     "output_type": "stream",
     "text": [
      "Operator `Forward` run in 0.15 s\n",
      "Operator `Kernel` run in 0.21 s\n"
     ]
    },
    {
     "name": "stdout",
     "output_type": "stream",
     "text": [
      "Imaging source 15 out of 51\n"
     ]
    },
    {
     "name": "stderr",
     "output_type": "stream",
     "text": [
      "Operator `Forward` run in 0.16 s\n",
      "Operator `Kernel` run in 0.21 s\n"
     ]
    },
    {
     "name": "stdout",
     "output_type": "stream",
     "text": [
      "Imaging source 16 out of 51\n"
     ]
    },
    {
     "name": "stderr",
     "output_type": "stream",
     "text": [
      "Operator `Forward` run in 0.16 s\n",
      "Operator `Kernel` run in 0.20 s\n"
     ]
    },
    {
     "name": "stdout",
     "output_type": "stream",
     "text": [
      "Imaging source 17 out of 51\n"
     ]
    },
    {
     "name": "stderr",
     "output_type": "stream",
     "text": [
      "Operator `Forward` run in 0.15 s\n",
      "Operator `Kernel` run in 0.20 s\n"
     ]
    },
    {
     "name": "stdout",
     "output_type": "stream",
     "text": [
      "Imaging source 18 out of 51\n"
     ]
    },
    {
     "name": "stderr",
     "output_type": "stream",
     "text": [
      "Operator `Forward` run in 0.15 s\n",
      "Operator `Kernel` run in 0.21 s\n"
     ]
    },
    {
     "name": "stdout",
     "output_type": "stream",
     "text": [
      "Imaging source 19 out of 51\n"
     ]
    },
    {
     "name": "stderr",
     "output_type": "stream",
     "text": [
      "Operator `Forward` run in 0.15 s\n",
      "Operator `Kernel` run in 0.21 s\n"
     ]
    },
    {
     "name": "stdout",
     "output_type": "stream",
     "text": [
      "Imaging source 20 out of 51\n"
     ]
    },
    {
     "name": "stderr",
     "output_type": "stream",
     "text": [
      "Operator `Forward` run in 0.15 s\n",
      "Operator `Kernel` run in 0.21 s\n"
     ]
    },
    {
     "name": "stdout",
     "output_type": "stream",
     "text": [
      "Imaging source 21 out of 51\n"
     ]
    },
    {
     "name": "stderr",
     "output_type": "stream",
     "text": [
      "Operator `Forward` run in 0.15 s\n",
      "Operator `Kernel` run in 0.21 s\n"
     ]
    },
    {
     "name": "stdout",
     "output_type": "stream",
     "text": [
      "Imaging source 22 out of 51\n"
     ]
    },
    {
     "name": "stderr",
     "output_type": "stream",
     "text": [
      "Operator `Forward` run in 0.15 s\n",
      "Operator `Kernel` run in 0.21 s\n"
     ]
    },
    {
     "name": "stdout",
     "output_type": "stream",
     "text": [
      "Imaging source 23 out of 51\n"
     ]
    },
    {
     "name": "stderr",
     "output_type": "stream",
     "text": [
      "Operator `Forward` run in 0.15 s\n",
      "Operator `Kernel` run in 0.20 s\n"
     ]
    },
    {
     "name": "stdout",
     "output_type": "stream",
     "text": [
      "Imaging source 24 out of 51\n"
     ]
    },
    {
     "name": "stderr",
     "output_type": "stream",
     "text": [
      "Operator `Forward` run in 0.15 s\n",
      "Operator `Kernel` run in 0.20 s\n"
     ]
    },
    {
     "name": "stdout",
     "output_type": "stream",
     "text": [
      "Imaging source 25 out of 51\n"
     ]
    },
    {
     "name": "stderr",
     "output_type": "stream",
     "text": [
      "Operator `Forward` run in 0.15 s\n",
      "Operator `Kernel` run in 0.20 s\n"
     ]
    },
    {
     "name": "stdout",
     "output_type": "stream",
     "text": [
      "Imaging source 26 out of 51\n"
     ]
    },
    {
     "name": "stderr",
     "output_type": "stream",
     "text": [
      "Operator `Forward` run in 0.15 s\n",
      "Operator `Kernel` run in 0.20 s\n"
     ]
    },
    {
     "name": "stdout",
     "output_type": "stream",
     "text": [
      "Imaging source 27 out of 51\n"
     ]
    },
    {
     "name": "stderr",
     "output_type": "stream",
     "text": [
      "Operator `Forward` run in 0.16 s\n",
      "Operator `Kernel` run in 0.20 s\n"
     ]
    },
    {
     "name": "stdout",
     "output_type": "stream",
     "text": [
      "Imaging source 28 out of 51\n"
     ]
    },
    {
     "name": "stderr",
     "output_type": "stream",
     "text": [
      "Operator `Forward` run in 0.15 s\n",
      "Operator `Kernel` run in 0.20 s\n"
     ]
    },
    {
     "name": "stdout",
     "output_type": "stream",
     "text": [
      "Imaging source 29 out of 51\n"
     ]
    },
    {
     "name": "stderr",
     "output_type": "stream",
     "text": [
      "Operator `Forward` run in 0.15 s\n",
      "Operator `Kernel` run in 0.21 s\n"
     ]
    },
    {
     "name": "stdout",
     "output_type": "stream",
     "text": [
      "Imaging source 30 out of 51\n"
     ]
    },
    {
     "name": "stderr",
     "output_type": "stream",
     "text": [
      "Operator `Forward` run in 0.15 s\n",
      "Operator `Kernel` run in 0.20 s\n"
     ]
    },
    {
     "name": "stdout",
     "output_type": "stream",
     "text": [
      "Imaging source 31 out of 51\n"
     ]
    },
    {
     "name": "stderr",
     "output_type": "stream",
     "text": [
      "Operator `Forward` run in 0.15 s\n",
      "Operator `Kernel` run in 0.20 s\n"
     ]
    },
    {
     "name": "stdout",
     "output_type": "stream",
     "text": [
      "Imaging source 32 out of 51\n"
     ]
    },
    {
     "name": "stderr",
     "output_type": "stream",
     "text": [
      "Operator `Forward` run in 0.16 s\n",
      "Operator `Kernel` run in 0.21 s\n"
     ]
    },
    {
     "name": "stdout",
     "output_type": "stream",
     "text": [
      "Imaging source 33 out of 51\n"
     ]
    },
    {
     "name": "stderr",
     "output_type": "stream",
     "text": [
      "Operator `Forward` run in 0.16 s\n",
      "Operator `Kernel` run in 0.21 s\n"
     ]
    },
    {
     "name": "stdout",
     "output_type": "stream",
     "text": [
      "Imaging source 34 out of 51\n"
     ]
    },
    {
     "name": "stderr",
     "output_type": "stream",
     "text": [
      "Operator `Forward` run in 0.15 s\n",
      "Operator `Kernel` run in 0.20 s\n"
     ]
    },
    {
     "name": "stdout",
     "output_type": "stream",
     "text": [
      "Imaging source 35 out of 51\n"
     ]
    },
    {
     "name": "stderr",
     "output_type": "stream",
     "text": [
      "Operator `Forward` run in 0.15 s\n",
      "Operator `Kernel` run in 0.20 s\n"
     ]
    },
    {
     "name": "stdout",
     "output_type": "stream",
     "text": [
      "Imaging source 36 out of 51\n"
     ]
    },
    {
     "name": "stderr",
     "output_type": "stream",
     "text": [
      "Operator `Forward` run in 0.15 s\n",
      "Operator `Kernel` run in 0.20 s\n"
     ]
    },
    {
     "name": "stdout",
     "output_type": "stream",
     "text": [
      "Imaging source 37 out of 51\n"
     ]
    },
    {
     "name": "stderr",
     "output_type": "stream",
     "text": [
      "Operator `Forward` run in 0.15 s\n",
      "Operator `Kernel` run in 0.20 s\n"
     ]
    },
    {
     "name": "stdout",
     "output_type": "stream",
     "text": [
      "Imaging source 38 out of 51\n"
     ]
    },
    {
     "name": "stderr",
     "output_type": "stream",
     "text": [
      "Operator `Forward` run in 0.15 s\n",
      "Operator `Kernel` run in 0.20 s\n"
     ]
    },
    {
     "name": "stdout",
     "output_type": "stream",
     "text": [
      "Imaging source 39 out of 51\n"
     ]
    },
    {
     "name": "stderr",
     "output_type": "stream",
     "text": [
      "Operator `Forward` run in 0.15 s\n",
      "Operator `Kernel` run in 0.20 s\n"
     ]
    },
    {
     "name": "stdout",
     "output_type": "stream",
     "text": [
      "Imaging source 40 out of 51\n"
     ]
    },
    {
     "name": "stderr",
     "output_type": "stream",
     "text": [
      "Operator `Forward` run in 0.15 s\n",
      "Operator `Kernel` run in 0.20 s\n"
     ]
    },
    {
     "name": "stdout",
     "output_type": "stream",
     "text": [
      "Imaging source 41 out of 51\n"
     ]
    },
    {
     "name": "stderr",
     "output_type": "stream",
     "text": [
      "Operator `Forward` run in 0.15 s\n",
      "Operator `Kernel` run in 0.20 s\n"
     ]
    },
    {
     "name": "stdout",
     "output_type": "stream",
     "text": [
      "Imaging source 42 out of 51\n"
     ]
    },
    {
     "name": "stderr",
     "output_type": "stream",
     "text": [
      "Operator `Forward` run in 0.15 s\n",
      "Operator `Kernel` run in 0.19 s\n"
     ]
    },
    {
     "name": "stdout",
     "output_type": "stream",
     "text": [
      "Imaging source 43 out of 51\n"
     ]
    },
    {
     "name": "stderr",
     "output_type": "stream",
     "text": [
      "Operator `Forward` run in 0.16 s\n",
      "Operator `Kernel` run in 0.20 s\n"
     ]
    },
    {
     "name": "stdout",
     "output_type": "stream",
     "text": [
      "Imaging source 44 out of 51\n"
     ]
    },
    {
     "name": "stderr",
     "output_type": "stream",
     "text": [
      "Operator `Forward` run in 0.15 s\n",
      "Operator `Kernel` run in 0.20 s\n"
     ]
    },
    {
     "name": "stdout",
     "output_type": "stream",
     "text": [
      "Imaging source 45 out of 51\n"
     ]
    },
    {
     "name": "stderr",
     "output_type": "stream",
     "text": [
      "Operator `Forward` run in 0.15 s\n",
      "Operator `Kernel` run in 0.20 s\n"
     ]
    },
    {
     "name": "stdout",
     "output_type": "stream",
     "text": [
      "Imaging source 46 out of 51\n"
     ]
    },
    {
     "name": "stderr",
     "output_type": "stream",
     "text": [
      "Operator `Forward` run in 0.15 s\n",
      "Operator `Kernel` run in 0.19 s\n"
     ]
    },
    {
     "name": "stdout",
     "output_type": "stream",
     "text": [
      "Imaging source 47 out of 51\n"
     ]
    },
    {
     "name": "stderr",
     "output_type": "stream",
     "text": [
      "Operator `Forward` run in 0.15 s\n",
      "Operator `Kernel` run in 0.19 s\n"
     ]
    },
    {
     "name": "stdout",
     "output_type": "stream",
     "text": [
      "Imaging source 48 out of 51\n"
     ]
    },
    {
     "name": "stderr",
     "output_type": "stream",
     "text": [
      "Operator `Forward` run in 0.15 s\n",
      "Operator `Kernel` run in 0.20 s\n"
     ]
    },
    {
     "name": "stdout",
     "output_type": "stream",
     "text": [
      "Imaging source 49 out of 51\n"
     ]
    },
    {
     "name": "stderr",
     "output_type": "stream",
     "text": [
      "Operator `Forward` run in 0.15 s\n",
      "Operator `Kernel` run in 0.19 s\n"
     ]
    },
    {
     "name": "stdout",
     "output_type": "stream",
     "text": [
      "Imaging source 50 out of 51\n"
     ]
    },
    {
     "name": "stderr",
     "output_type": "stream",
     "text": [
      "Operator `Forward` run in 0.15 s\n",
      "Operator `Kernel` run in 0.19 s\n"
     ]
    },
    {
     "name": "stdout",
     "output_type": "stream",
     "text": [
      "Imaging source 51 out of 51\n"
     ]
    },
    {
     "name": "stderr",
     "output_type": "stream",
     "text": [
      "Operator `Forward` run in 0.15 s\n",
      "Operator `Kernel` run in 0.20 s\n"
     ]
    }
   ],
   "source": [
    "# Run imaging loop over shots\n",
    "from devito import Function\n",
    "\n",
    "# Create image symbol and instantiate the previously defined imaging operator\n",
    "image = Function(name='image', grid=model.grid)\n",
    "op_imaging = ImagingOperator(model, image)\n",
    "solver = AcousticWaveSolver(model, geometry, space_order=4)\n",
    "objective=0\n",
    "for i in range(nshots):\n",
    "    print('Imaging source %d out of %d' % (i+1, nshots))\n",
    "    \n",
    "    # Update source location\n",
    "    geometry.src_positions[0, :] = source_locations[i, :]\n",
    "\n",
    "    # Generate synthetic data from true model\n",
    "    #true_d, _, _ = solver.forward(vp=model.vp)\n",
    "    \n",
    "    # Compute smooth data and full forward wavefield u0\n",
    "    smooth_d, u0, _ = solver.forward(vp=model.vp, save=True)\n",
    "    dat = smooth_d.data\n",
    "    \n",
    "    # Compute gradient from the data residual  \n",
    "    v = TimeFunction(name='v', grid=model.grid, time_order=2, space_order=4)\n",
    "    residual = dat - names['data' + str(i)]\n",
    "    residual = np.float32(residual)\n",
    "    op_imaging(u=u0, v=v, vp=model.vp, dt=1., \n",
    "               residual=residual)"
   ]
  },
  {
   "cell_type": "code",
   "execution_count": 40,
   "metadata": {},
   "outputs": [
    {
     "data": {
      "image/png": "[encoded data removed]",
      "text/plain": [
       "<Figure size 432x288 with 1 Axes>"
      ]
     },
     "metadata": {
      "needs_background": "light"
     },
     "output_type": "display_data"
    }
   ],
   "source": [
    "from examples.seismic import plot_image\n",
    "\n",
    "# Plot the inverted image\n",
    "data0 = image.data[20:-20,20:-20]\n",
    "plt.imshow(np.diff(data0, axis=1).T,vmin=-1,vmax=10,cmap='gray')\n",
    "plt.savefig('rtm4sr')\n",
    "#plot_image(image.data)"
   ]
  },
  {
   "cell_type": "code",
   "execution_count": null,
   "metadata": {},
   "outputs": [],
   "source": [
    "# Define bounding box constraints on the solution.\n",
    "def apply_box_constraint(vp):\n",
    "    # Maximum possible 'realistic' velocity is 3.5 km/sec\n",
    "    # Minimum possible 'realistic' velocity is 2 km/sec\n",
    "    return np.clip(vp, 2.0, 3.5)"
   ]
  },
  {
   "cell_type": "code",
   "execution_count": null,
   "metadata": {},
   "outputs": [],
   "source": [
    "#NBVAL_SKIP\n",
    "\n",
    "# Run FWI with gradient descent\n",
    "history = np.zeros((fwi_iterations, 1))\n",
    "for i in range(0, fwi_iterations):\n",
    "    # Compute the functional value and gradient for the current\n",
    "    # model estimate\n",
    "    phi, direction = fwi_gradient(model.vp)\n",
    "    \n",
    "    # Store the history of the functional values\n",
    "    history[i] = phi\n",
    "    \n",
    "    # Artificial Step length for gradient descent\n",
    "    # In practice this would be replaced by a Linesearch (Wolfe, ...)\n",
    "    # that would guarantee functional decrease Phi(m-alpha g) <= epsilon Phi(m)\n",
    "    # where epsilon is a minimum decrease constant\n",
    "    alpha = .05 / np.abs(direction).max()\n",
    "    \n",
    "    # Update the model estimate and enforce minimum/maximum values\n",
    "    model.vp = apply_box_constraint(model.vp.data - alpha * direction)\n",
    "    \n",
    "    # Log the progress made\n",
    "    print('Objective value is %f at iteration %d' % (phi, i+1))"
   ]
  },
  {
   "cell_type": "code",
   "execution_count": null,
   "metadata": {},
   "outputs": [],
   "source": []
  }
 ],
 "metadata": {
  "kernelspec": {
   "display_name": "Python 3",
   "language": "python",
   "name": "python3"
  },
  "language_info": {
   "codemirror_mode": {
    "name": "ipython",
    "version": 3
   },
   "file_extension": ".py",
   "mimetype": "text/x-python",
   "name": "python",
   "nbconvert_exporter": "python",
   "pygments_lexer": "ipython3",
   "version": "3.7.6"
  }
 },
 "nbformat": 4,
 "nbformat_minor": 4
}
